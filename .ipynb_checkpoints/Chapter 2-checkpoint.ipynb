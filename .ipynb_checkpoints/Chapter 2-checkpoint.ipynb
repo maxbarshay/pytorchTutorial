{
 "cells": [
  {
   "cell_type": "code",
   "execution_count": null,
   "id": "3ad3b0e8-9dd9-4784-a40b-64347f9a7ebc",
   "metadata": {},
   "outputs": [],
   "source": []
  }
 ],
 "metadata": {
  "kernelspec": {
   "display_name": "transformers",
   "language": "python",
   "name": "transformers"
  },
  "language_info": {
   "codemirror_mode": {
    "name": "ipython",
    "version": 3
   },
   "file_extension": ".py",
   "mimetype": "text/x-python",
   "name": "python",
   "nbconvert_exporter": "python",
   "pygments_lexer": "ipython3",
   "version": "3.10.11"
  }
 },
 "nbformat": 4,
 "nbformat_minor": 5
}
